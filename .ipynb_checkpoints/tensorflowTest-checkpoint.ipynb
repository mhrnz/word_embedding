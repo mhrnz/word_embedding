{
 "cells": [
  {
   "cell_type": "code",
   "execution_count": 61,
   "metadata": {},
   "outputs": [],
   "source": [
    "import tensorflow as tf\n",
    "import numpy as np"
   ]
  },
  {
   "cell_type": "code",
   "execution_count": 62,
   "metadata": {},
   "outputs": [
    {
     "name": "stdout",
     "output_type": "stream",
     "text": [
      "Tensor(\"MatMul_5:0\", shape=(1, 1), dtype=int32)\n",
      "[[6]]\n",
      "[[6]]\n"
     ]
    }
   ],
   "source": [
    "a=tf.constant([[2]])\n",
    "b=tf.constant([[3]])\n",
    "result=tf.matmul(a,b)\n",
    "print(result)\n",
    "\n",
    "with tf.Session() as sess:\n",
    "    output=sess.run(result)\n",
    "    print(output)\n",
    "    \n",
    "print(output)"
   ]
  },
  {
   "cell_type": "code",
   "execution_count": 63,
   "metadata": {},
   "outputs": [
    {
     "name": "stdout",
     "output_type": "stream",
     "text": [
      "Tensor(\"zeros_25:0\", shape=(2, 2), dtype=float32)\n",
      "[[0. 0.]\n",
      " [0. 0.]]\n"
     ]
    },
    {
     "name": "stderr",
     "output_type": "stream",
     "text": [
      "C:\\Users\\mehrnaz\\Anaconda3\\envs\\environment1\\lib\\site-packages\\tensorflow\\python\\client\\session.py:1714: UserWarning: An interactive session is already active. This can cause out-of-memory errors in some cases. You must explicitly call `InteractiveSession.close()` to release resources held by the other session(s).\n",
      "  warnings.warn('An interactive session is already active. This can '\n"
     ]
    },
    {
     "data": {
      "text/plain": [
       "<tf.Variable 'weights_4:0' shape=(2, 2) dtype=float32_ref>"
      ]
     },
     "execution_count": 63,
     "metadata": {},
     "output_type": "execute_result"
    }
   ],
   "source": [
    "t=tf.zeros((2,2))\n",
    "print(t)\n",
    "sess=tf.InteractiveSession()\n",
    "print(t.eval())\n",
    "sess.close()\n",
    "tf.Variable(tf.zeros((2,2)),name='weights')"
   ]
  },
  {
   "cell_type": "code",
   "execution_count": 64,
   "metadata": {},
   "outputs": [
    {
     "name": "stdout",
     "output_type": "stream",
     "text": [
      "0\n",
      "1\n",
      "2\n",
      "3\n"
     ]
    }
   ],
   "source": [
    "#counter implementation\n",
    "state=tf.Variable(0,name='counter')\n",
    "new_value=tf.add(state,tf.constant(1))\n",
    "update=tf.assign(state,new_value)\n",
    "\n",
    "with tf.Session() as sess:\n",
    "    sess.run(tf.initialize_all_variables())\n",
    "    print(sess.run(state))\n",
    "    for _ in range(3):\n",
    "        sess.run(update)\n",
    "        print(sess.run(state))\n",
    "#         print(state.eval())"
   ]
  },
  {
   "cell_type": "code",
   "execution_count": 65,
   "metadata": {},
   "outputs": [
    {
     "name": "stdout",
     "output_type": "stream",
     "text": [
      "<bound method Variable.value of <tf.Variable 'a/v4:0' shape=(1,) dtype=float32_ref>>\n"
     ]
    }
   ],
   "source": [
    "with tf.variable_scope(\"a\"):\n",
    "    tf.get_variable_scope().reuse_variables()\n",
    "    #with tf.variable_scope('a',reuse=True)\n",
    "    v=tf.get_variable(\"v4\",[1,])\n",
    "    s=tf.get_variable(\"v4\")\n",
    "    print(v.value)\n",
    "    assert s==v\n",
    "# print(v)"
   ]
  },
  {
   "cell_type": "code",
   "execution_count": 66,
   "metadata": {},
   "outputs": [
    {
     "data": {
      "text/plain": [
       "<tensorflow.python.training.adam.AdamOptimizer at 0x12fe2593b38>"
      ]
     },
     "execution_count": 66,
     "metadata": {},
     "output_type": "execute_result"
    }
   ],
   "source": [
    "tf.train.AdamOptimizer()"
   ]
  },
  {
   "cell_type": "code",
   "execution_count": 67,
   "metadata": {},
   "outputs": [
    {
     "name": "stdout",
     "output_type": "stream",
     "text": [
      "[[1. 1.]]\n"
     ]
    },
    {
     "name": "stderr",
     "output_type": "stream",
     "text": [
      "C:\\Users\\mehrnaz\\Anaconda3\\envs\\environment1\\lib\\site-packages\\tensorflow\\python\\client\\session.py:1714: UserWarning: An interactive session is already active. This can cause out-of-memory errors in some cases. You must explicitly call `InteractiveSession.close()` to release resources held by the other session(s).\n",
      "  warnings.warn('An interactive session is already active. This can '\n"
     ]
    }
   ],
   "source": [
    "tf.InteractiveSession()\n",
    "a=tf.zeros((2,))\n",
    "a=tf.reshape(a,(1,-1))\n",
    "a=a+1\n",
    "print(a.eval())"
   ]
  },
  {
   "cell_type": "code",
   "execution_count": null,
   "metadata": {},
   "outputs": [],
   "source": [
    "n_samples=1000\n",
    "batch_size=100\n",
    "\n",
    "x_data=np.reshape(x_data,(n_samples,-1))\n",
    "y_data=np.reshape(y_data,(n_samples,-1))\n",
    "\n",
    "x=tf.placeholder(tf.float32,(batch_size,-1))\n",
    "y=tf.placeholder(tf.float32,(batch_size,-1))\n",
    "\n",
    "with tf.variable_scope(\"linear-regression\"):\n",
    "    weight=tf.get_variable(\"weight\",(1,1),initializer=tf.random_normal_initializer())\n",
    "    bias=tf.get_variable(\"bias\",(1,),initializer=tf.random_normal_initializer())\n",
    "    y_predict=tf.matmul(x,weight)+bias\n",
    "    loss=tf.reduce_sum((y_predict-y)**2/n_samples)\n",
    "    optimizer=tf.train.AdamOptimizer().minimize(loss)\n",
    "\n",
    "with tf.Session() as sess:\n",
    "    sess.run(tf.initialize_all_variables())\n",
    "    for _ in range(100):\n",
    "        indices=np.random.choice(n_samples,batch_size) # an array of size batch_size, each value is a random number in range(n_samples)\n",
    "        x_batch,y_batch=x_data[indices],y_data[indices]\n",
    "        _,loss=sess.run([optimizer,loss],feed_dict={x=x_batch,y=y_batch})"
   ]
  }
 ],
 "metadata": {
  "kernelspec": {
   "display_name": "Python 3",
   "language": "python",
   "name": "python3"
  },
  "language_info": {
   "codemirror_mode": {
    "name": "ipython",
    "version": 3
   },
   "file_extension": ".py",
   "mimetype": "text/x-python",
   "name": "python",
   "nbconvert_exporter": "python",
   "pygments_lexer": "ipython3",
   "version": "3.6.6"
  }
 },
 "nbformat": 4,
 "nbformat_minor": 2
}
