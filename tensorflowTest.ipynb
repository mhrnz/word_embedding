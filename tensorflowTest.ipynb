{
 "cells": [
  {
   "cell_type": "code",
   "execution_count": 49,
   "metadata": {},
   "outputs": [],
   "source": [
    "import tensorflow as tf\n",
    "import numpy as np\n",
    "import utils"
   ]
  },
  {
   "cell_type": "code",
   "execution_count": 2,
   "metadata": {},
   "outputs": [
    {
     "name": "stdout",
     "output_type": "stream",
     "text": [
      "Tensor(\"MatMul:0\", shape=(1, 1), dtype=int32)\n",
      "[[6]]\n",
      "[[6]]\n"
     ]
    }
   ],
   "source": [
    "a=tf.constant([[2]])\n",
    "b=tf.constant([[3]])\n",
    "result=tf.matmul(a,b)\n",
    "print(result)\n",
    "\n",
    "with tf.Session() as sess:\n",
    "    output=sess.run(result)\n",
    "    print(output)\n",
    "    \n",
    "print(output)"
   ]
  },
  {
   "cell_type": "code",
   "execution_count": 3,
   "metadata": {},
   "outputs": [
    {
     "name": "stdout",
     "output_type": "stream",
     "text": [
      "Tensor(\"zeros:0\", shape=(2, 2), dtype=float32)\n",
      "[[0. 0.]\n",
      " [0. 0.]]\n"
     ]
    },
    {
     "data": {
      "text/plain": [
       "<tf.Variable 'weights:0' shape=(2, 2) dtype=float32_ref>"
      ]
     },
     "execution_count": 3,
     "metadata": {},
     "output_type": "execute_result"
    }
   ],
   "source": [
    "t=tf.zeros((2,2))\n",
    "print(t)\n",
    "sess=tf.InteractiveSession()\n",
    "print(t.eval())\n",
    "sess.close()\n",
    "tf.Variable(tf.zeros((2,2)),name='weights')"
   ]
  },
  {
   "cell_type": "code",
   "execution_count": 4,
   "metadata": {},
   "outputs": [
    {
     "name": "stdout",
     "output_type": "stream",
     "text": [
      "WARNING:tensorflow:From C:\\Users\\mehrnaz\\Anaconda3\\envs\\environment1\\lib\\site-packages\\tensorflow\\python\\util\\tf_should_use.py:118: initialize_all_variables (from tensorflow.python.ops.variables) is deprecated and will be removed after 2017-03-02.\n",
      "Instructions for updating:\n",
      "Use `tf.global_variables_initializer` instead.\n",
      "0\n",
      "1\n",
      "2\n",
      "3\n"
     ]
    }
   ],
   "source": [
    "#counter implementation\n",
    "state=tf.Variable(0,name='counter')\n",
    "new_value=tf.add(state,tf.constant(1))\n",
    "update=tf.assign(state,new_value)\n",
    "\n",
    "with tf.Session() as sess:\n",
    "    sess.run(tf.initialize_all_variables())\n",
    "    print(sess.run(state))\n",
    "    for _ in range(3):\n",
    "        sess.run(update)\n",
    "        print(sess.run(state))\n",
    "#         print(state.eval())"
   ]
  },
  {
   "cell_type": "code",
   "execution_count": 11,
   "metadata": {},
   "outputs": [
    {
     "name": "stdout",
     "output_type": "stream",
     "text": [
      "<bound method Variable.value of <tf.Variable 'a/v6:0' shape=(1,) dtype=float32_ref>>\n"
     ]
    }
   ],
   "source": [
    "with tf.variable_scope(\"a\"):\n",
    "    tf.get_variable_scope().reuse_variables()\n",
    "    #with tf.variable_scope('a',reuse=True)\n",
    "    v=tf.get_variable(\"v6\",[1,])\n",
    "    s=tf.get_variable(\"v6\")\n",
    "    print(v.value)\n",
    "    assert s==v\n",
    "# print(v)"
   ]
  },
  {
   "cell_type": "code",
   "execution_count": 12,
   "metadata": {},
   "outputs": [
    {
     "data": {
      "text/plain": [
       "<tensorflow.python.training.adam.AdamOptimizer at 0x1e056168940>"
      ]
     },
     "execution_count": 12,
     "metadata": {},
     "output_type": "execute_result"
    }
   ],
   "source": [
    "tf.train.AdamOptimizer()"
   ]
  },
  {
   "cell_type": "code",
   "execution_count": 13,
   "metadata": {},
   "outputs": [
    {
     "name": "stdout",
     "output_type": "stream",
     "text": [
      "[[1. 1.]]\n"
     ]
    }
   ],
   "source": [
    "tf.InteractiveSession()\n",
    "a=tf.zeros((2,))\n",
    "a=tf.reshape(a,(1,-1))\n",
    "a=a+1\n",
    "print(a.eval())"
   ]
  },
  {
   "cell_type": "code",
   "execution_count": 35,
   "metadata": {},
   "outputs": [
    {
     "name": "stdout",
     "output_type": "stream",
     "text": [
      "<class 'numpy.ndarray'>\n",
      "None\n",
      "<class 'numpy.ndarray'>\n",
      "None\n",
      "<class 'numpy.ndarray'>\n",
      "None\n",
      "<class 'numpy.ndarray'>\n",
      "None\n",
      "<class 'numpy.ndarray'>\n",
      "None\n",
      "<class 'numpy.ndarray'>\n",
      "None\n",
      "<class 'numpy.ndarray'>\n",
      "None\n",
      "<class 'numpy.ndarray'>\n",
      "None\n",
      "<class 'numpy.ndarray'>\n",
      "None\n",
      "<class 'numpy.ndarray'>\n",
      "None\n"
     ]
    }
   ],
   "source": [
    "n_samples=1000\n",
    "batch_size=3\n",
    "\n",
    "# x_data=np.reshape(x_data,(n_samples,-1))\n",
    "# y_data=np.reshape(y_data,(n_samples,-1))\n",
    "\n",
    "x=tf.placeholder(tf.float32,(batch_size,1))\n",
    "y=tf.placeholder(tf.float32,(batch_size,1))\n",
    "\n",
    "with tf.variable_scope(\"linear-regression\",reuse=True):\n",
    "    weight=tf.get_variable(\"weight\",(1,1),initializer=tf.random_normal_initializer())\n",
    "    bias=tf.get_variable(\"bias\",(1,),initializer=tf.random_normal_initializer())\n",
    "    y_predict=tf.matmul(x,weight)+bias\n",
    "    loss=tf.reduce_sum((y_predict-y)**2/n_samples)\n",
    "    optimizer=tf.train.AdamOptimizer().minimize(loss)\n",
    "\n",
    "with tf.Session() as sess:\n",
    "    sess.run(tf.initialize_all_variables())\n",
    "    for _ in range(10):\n",
    "        indices=np.random.choice(n_samples,batch_size) # an array of size batch_size, each value is a random number in range(n_samples)\n",
    "#         x_batch,y_batch=x_data[indices],y_data[indices]\n",
    "#         x_batch=tf.constant([[1],[2],[3]],dtype=float)\n",
    "        x_batch=np.array([[1],[2],[3]])\n",
    "        y_batch=np.array([[1],[2],[3]])\n",
    "        print(type(x_batch))\n",
    "#         y_batch=tf.constant([[1],[2],[3]],dtype=float)\n",
    "        _ ,loss_val=sess.run([optimizer,loss],feed_dict={x:x_batch,y:y_batch})"
   ]
  },
  {
   "cell_type": "code",
   "execution_count": 59,
   "metadata": {},
   "outputs": [
    {
     "name": "stdout",
     "output_type": "stream",
     "text": [
      "hello how are you?\n",
      "\n",
      "\n",
      "thanks for choosing me...\n",
      "\n",
      "hello again hello you\n",
      "['hello', 'how', 'are', 'you', 'thanks', 'for', 'choosing', 'me', 'hello', 'again', 'hello', 'you']\n",
      "Counter({'hello': 3, 'you': 2, 'how': 1, 'are': 1, 'thanks': 1, 'for': 1, 'choosing': 1, 'me': 1, 'again': 1})\n",
      "[1, 1]\n"
     ]
    }
   ],
   "source": [
    "import tensorflow.keras.preprocessing as preprocessing\n",
    "from collections import Counter\n",
    "\n",
    "\n",
    "with open('data.txt') as f:\n",
    "    text=f.read()\n",
    "    \n",
    "print(text)\n",
    "words=preprocessing.text.text_to_word_sequence(text, filters='!\"#$%&()*+,-./:;<=>?@[\\]^_`{|}~\\n', lower=True, split=' ')\n",
    "print(words)\n",
    "word_counts=Counter(words)\n",
    "print(word_counts)\n",
    "list=[1]\n",
    "print(list*2)"
   ]
  },
  {
   "cell_type": "code",
   "execution_count": 62,
   "metadata": {},
   "outputs": [
    {
     "name": "stdout",
     "output_type": "stream",
     "text": [
      "(3,)\n",
      "[[1]\n",
      " [2]\n",
      " [3]] (3, 1)\n",
      "[[[1]]\n",
      "\n",
      " [[2]]\n",
      "\n",
      " [[3]]] (3, 1, 1)\n"
     ]
    }
   ],
   "source": [
    "a=np.array([1,2,3])\n",
    "print(a.shape)\n",
    "a=a[:,None]\n",
    "print(a,a.shape)\n",
    "a=a[:,None]\n",
    "print(a,a.shape)\n"
   ]
  },
  {
   "cell_type": "code",
   "execution_count": 65,
   "metadata": {},
   "outputs": [
    {
     "name": "stdout",
     "output_type": "stream",
     "text": [
      "<class 'float'>\n",
      "<class 'int'>\n"
     ]
    },
    {
     "data": {
      "text/plain": [
       "4.4"
      ]
     },
     "execution_count": 65,
     "metadata": {},
     "output_type": "execute_result"
    }
   ],
   "source": [
    "a=2.2\n",
    "print(type(a))\n",
    "b=2\n",
    "print(type(b))\n",
    "a*b"
   ]
  },
  {
   "cell_type": "code",
   "execution_count": 2,
   "metadata": {},
   "outputs": [
    {
     "name": "stdout",
     "output_type": "stream",
     "text": [
      "[[1, 2, 3]]\n",
      "<class 'list'>\n"
     ]
    }
   ],
   "source": [
    "a=[]\n",
    "a.append([1,2,3])\n",
    "print(a)\n",
    "print(type(a))"
   ]
  },
  {
   "cell_type": "code",
   "execution_count": null,
   "metadata": {},
   "outputs": [],
   "source": []
  }
 ],
 "metadata": {
  "kernelspec": {
   "display_name": "Python 3",
   "language": "python",
   "name": "python3"
  },
  "language_info": {
   "codemirror_mode": {
    "name": "ipython",
    "version": 3
   },
   "file_extension": ".py",
   "mimetype": "text/x-python",
   "name": "python",
   "nbconvert_exporter": "python",
   "pygments_lexer": "ipython3",
   "version": "3.6.6"
  }
 },
 "nbformat": 4,
 "nbformat_minor": 2
}
